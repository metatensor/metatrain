{
  "cells": [
    {
      "cell_type": "markdown",
      "metadata": {},
      "source": [
        "\n# Training a model with ZBL corrections\n\nThis tutorial demonstrates how to train a model with ZBL corrections.\n\nThe training set for this example consists of a\nsubset of the ethanol moleculs from the [rMD17 dataset](https://iopscience.iop.org/article/10.1088/2632-2153/abba6f/meta).\n\nThe models are trained using the following training options, respectively:\n\n.. literalinclude:: options_no_zbl.yaml\n   :language: yaml\n\n.. literalinclude:: options_zbl.yaml\n    :language: yaml\n\nAs you can see, they are identical, except for the ``zbl`` key in the\n``model`` section.\nYou can train the same models yourself with\n\n.. literalinclude:: train.sh\n   :language: bash\n\nA detailed step-by-step introduction on how to train a model is provided in\nthe `label_basic_usage` tutorial.\n"
      ]
    },
    {
      "cell_type": "markdown",
      "metadata": {},
      "source": [
        "First, we start by importing the necessary libraries, including the integration of ASE\ncalculators for metatensor atomistic models.\n\n"
      ]
    },
    {
      "cell_type": "code",
      "execution_count": null,
      "metadata": {
        "collapsed": false
      },
      "outputs": [],
      "source": [
        "import ase\nimport matplotlib.pyplot as plt\nimport numpy as np\nimport torch\nfrom metatensor.torch.atomistic.ase_calculator import MetatensorCalculator"
      ]
    },
    {
      "cell_type": "markdown",
      "metadata": {},
      "source": [
        "## Setting up the dimers\n\nWe set up a series of dimers with different atom pairs and distances. We will\ncalculate the energies of these dimers using the models trained with and without ZBL\ncorrections.\n\n"
      ]
    },
    {
      "cell_type": "code",
      "execution_count": null,
      "metadata": {
        "collapsed": false
      },
      "outputs": [],
      "source": [
        "distances = np.linspace(0.5, 6.0, 200)\npairs = {}\nfor pair in [(\"H\", \"H\"), (\"H\", \"C\"), (\"C\", \"C\"), (\"C\", \"O\"), (\"O\", \"O\"), (\"H\", \"O\")]:\n    structures = []\n    for distance in distances:\n        atoms = ase.Atoms(\n            symbols=[pair[0], pair[1]],\n            positions=[[0, 0, 0], [0, 0, distance]],\n        )\n        structures.append(atoms)\n    pairs[pair] = structures"
      ]
    },
    {
      "cell_type": "markdown",
      "metadata": {},
      "source": [
        "We now load the two exported models, one with and one without ZBL corrections\n\n"
      ]
    },
    {
      "cell_type": "code",
      "execution_count": null,
      "metadata": {
        "collapsed": false
      },
      "outputs": [],
      "source": [
        "calc_no_zbl = MetatensorCalculator(\n    \"model_no_zbl.pt\", extensions_directory=\"extensions/\"\n)\ncalc_zbl = MetatensorCalculator(\"model_zbl.pt\", extensions_directory=\"extensions/\")"
      ]
    },
    {
      "cell_type": "markdown",
      "metadata": {},
      "source": [
        "## Calculate and plot energies without ZBL\n\nWe calculate the energies of the dimer curves for each pair of atoms and\nplot the results, using the non-ZBL-corrected model.\n\n"
      ]
    },
    {
      "cell_type": "code",
      "execution_count": null,
      "metadata": {
        "collapsed": false
      },
      "outputs": [],
      "source": [
        "for pair, structures_for_pair in pairs.items():\n    energies = []\n    for atoms in structures_for_pair:\n        atoms.set_calculator(calc_no_zbl)\n        with torch.jit.optimized_execution(False):\n            energies.append(atoms.get_potential_energy())\n    energies = np.array(energies) - energies[-1]\n    plt.plot(distances, energies, label=f\"{pair[0]}-{pair[1]}\")\nplt.title(\"Dimer curves - no ZBL\")\nplt.xlabel(\"Distance (\u00c5)\")\nplt.ylabel(\"Energy (eV)\")\nplt.legend()\nplt.tight_layout()\nplt.show()"
      ]
    },
    {
      "cell_type": "markdown",
      "metadata": {},
      "source": [
        "## Calculate and plot energies from the ZBL-corrected model\n\nWe repeat the same procedure as above, but this time with the ZBL-corrected model.\n\n"
      ]
    },
    {
      "cell_type": "code",
      "execution_count": null,
      "metadata": {
        "collapsed": false
      },
      "outputs": [],
      "source": [
        "for pair, structures_for_pair in pairs.items():\n    energies = []\n    for atoms in structures_for_pair:\n        atoms.set_calculator(calc_zbl)\n        with torch.jit.optimized_execution(False):\n            energies.append(atoms.get_potential_energy())\n    energies = np.array(energies) - energies[-1]\n    plt.plot(distances, energies, label=f\"{pair[0]}-{pair[1]}\")\nplt.title(\"Dimer curves - with ZBL\")\nplt.xlabel(\"Distance (\u00c5)\")\nplt.ylabel(\"Energy (eV)\")\nplt.legend()\nplt.tight_layout()\nplt.show()"
      ]
    },
    {
      "cell_type": "markdown",
      "metadata": {},
      "source": [
        "It can be seen that all the dimer curves include a strong repulsion\nat short distances, which is due to the ZBL contribution. Even the H-H dimer,\nwhose ZBL correction is very weak due to the small covalent radii of hydrogen,\nwould show a strong repulsion closer to the origin (here, we only plotted\nstarting from a distance of 0.5 \u00c5). Let's zoom in on the H-H dimer to see\nthis effect more clearly.\n\n"
      ]
    },
    {
      "cell_type": "code",
      "execution_count": null,
      "metadata": {
        "collapsed": false
      },
      "outputs": [],
      "source": [
        "new_distances = np.linspace(0.1, 2.0, 200)\n\nstructures = []\nfor distance in new_distances:\n    atoms = ase.Atoms(\n        symbols=[\"H\", \"H\"],\n        positions=[[0, 0, 0], [0, 0, distance]],\n    )\n    structures.append(atoms)\n\nfor atoms in structures:\n    atoms.set_calculator(calc_zbl)\nwith torch.jit.optimized_execution(False):\n    energies = [atoms.get_potential_energy() for atoms in structures]\nenergies = np.array(energies) - energies[-1]\nplt.plot(new_distances, energies, label=\"H-H\")\nplt.title(\"Dimer curve - H-H with ZBL\")\nplt.xlabel(\"Distance (\u00c5)\")\nplt.ylabel(\"Energy (eV)\")\nplt.legend()\nplt.tight_layout()\nplt.show()"
      ]
    }
  ],
  "metadata": {
    "kernelspec": {
      "display_name": "Python 3",
      "language": "python",
      "name": "python3"
    },
    "language_info": {
      "codemirror_mode": {
        "name": "ipython",
        "version": 3
      },
      "file_extension": ".py",
      "mimetype": "text/x-python",
      "name": "python",
      "nbconvert_exporter": "python",
      "pygments_lexer": "ipython3",
      "version": "3.13.2"
    }
  },
  "nbformat": 4,
  "nbformat_minor": 0
}