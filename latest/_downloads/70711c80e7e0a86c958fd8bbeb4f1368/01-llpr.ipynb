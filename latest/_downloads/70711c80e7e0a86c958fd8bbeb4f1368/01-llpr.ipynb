{
  "cells": [
    {
      "cell_type": "markdown",
      "metadata": {},
      "source": [
        "\n# Computing LLPR uncertainties\n\nThis tutorial demonstrates how to train a model with uncertainties using metatrain.\nIt involves the computation of the uncertainties on ethanol molecules, using the\nlast-layer prediction rigidity ([LLPR](LLPR_)) approximation. Both total and local\n([LPR](LPR_)) uncertainties are computed\n\n\nThe baseline model was trained using the following training options, where the training\nset consists of 100 structures from the QM9 dataset.\n\n.. literalinclude:: options-model.yaml\n   :language: yaml\n\nOnce a model is trained, you can add LLPR uncertainties to it by launching a training\nrun with the \"llpr\" architecture, on the same data. In this case, the training options\nto add LLPR uncertainties are as follows:\n\n.. literalinclude:: options-llpr.yaml\n   :language: yaml\n\nAdding LLPR uncertainties is very cheap compared to training a model, as it only\ninvolves one pass through the training data (equivalent to one epoch of training).\n\nYou can repeat the same training yourself with\n"
      ]
    },
    {
      "cell_type": "code",
      "execution_count": null,
      "metadata": {
        "collapsed": false
      },
      "outputs": [],
      "source": [
        "import subprocess\n\nimport ase.io\nimport matplotlib.pyplot as plt\nfrom ase.visualize.plot import plot_atoms\nfrom matplotlib.colors import LogNorm\nfrom metatomic.torch import ModelOutput\nfrom metatomic.torch.ase_calculator import MetatomicCalculator"
      ]
    },
    {
      "cell_type": "markdown",
      "metadata": {},
      "source": [
        "We first train the baseline model without uncertainties and then the LLPR model.\n\n"
      ]
    },
    {
      "cell_type": "code",
      "execution_count": null,
      "metadata": {
        "collapsed": false
      },
      "outputs": [],
      "source": [
        "# Here, we run training as a subprocess, in reality you would run this from the command\n# line, e.g. ``mtt train options-model.yaml -o model.pt``.\nsubprocess.run([\"mtt\", \"train\", \"options-model.yaml\", \"-o\", \"model.pt\"], check=True)\nsubprocess.run([\"mtt\", \"train\", \"options-llpr.yaml\", \"-o\", \"model-llpr.pt\"], check=True)"
      ]
    },
    {
      "cell_type": "markdown",
      "metadata": {},
      "source": [
        "A detailed step-by-step introduction on how to train a model is provided in\nthe `label_basic_usage` tutorial.\n\nAs an example, we will compute the energies and uncertainties of the LLPR model on a\nfew ethanol structures.\n\nNext we load 5 ethanol structures\n\n"
      ]
    },
    {
      "cell_type": "code",
      "execution_count": null,
      "metadata": {
        "collapsed": false
      },
      "outputs": [],
      "source": [
        "structures = ase.io.read(\"ethanol_reduced_100.xyz\", \":5\")"
      ]
    },
    {
      "cell_type": "markdown",
      "metadata": {},
      "source": [
        "and load the model as an ASE calculator\n\n"
      ]
    },
    {
      "cell_type": "code",
      "execution_count": null,
      "metadata": {
        "collapsed": false
      },
      "outputs": [],
      "source": [
        "calc = MetatomicCalculator(\n    \"model-llpr.pt\", extensions_directory=\"extensions/\", device=\"cpu\"\n)\n\n# the uncertainties are available throguh the ``run_model`` method of the calculator\npredictions = calc.run_model(\n    structures,\n    {\n        \"energy\": ModelOutput(per_atom=False),\n        \"energy_uncertainty\": ModelOutput(per_atom=False),\n    },\n)\n\n# print the energies and uncertainties\n\nenergies = predictions[\"energy\"].block().values.squeeze().numpy()\nuncertainties = predictions[\"energy_uncertainty\"].block().values.squeeze().numpy()\n\nprint(energies)\nprint(uncertainties)"
      ]
    },
    {
      "cell_type": "markdown",
      "metadata": {},
      "source": [
        "We can also obtain per-atom uncertainties (local prediction rigidity, LPR). As an\nexample, we will compute the uncertainties on an ethanol structure.\n\n"
      ]
    },
    {
      "cell_type": "code",
      "execution_count": null,
      "metadata": {
        "collapsed": false
      },
      "outputs": [],
      "source": [
        "structure = structures[0]\npredictions = calc.run_model(\n    structure,\n    {\n        # here, we use per_atom=True to request per-atom uncertainties\n        \"energy_uncertainty\": ModelOutput(per_atom=True),\n    },\n)\nlocal_uncertainty = predictions[\"energy_uncertainty\"].block().values.squeeze().numpy()\nlocal_uncertainty = local_uncertainty * 1000.0  # convert from eV to meV\n\nnorm = LogNorm(vmin=min(local_uncertainty), vmax=max(local_uncertainty))\ncolormap = plt.get_cmap(\"viridis\")\ncolors = colormap(norm(local_uncertainty))\nax = plot_atoms(structure, colors=colors, rotation=\"180x,0y,0z\")\ncustom_ticks = [0.7, 0.8, 0.9, 1.0, 1.5, 2.0, 2.5, 3.0, 3.5]\ncbar = plt.colorbar(\n    plt.cm.ScalarMappable(norm=norm, cmap=colormap),\n    ax=ax,\n    label=\"Local energy uncertainty (meV)\",\n    ticks=custom_ticks,\n)\ncbar.ax.set_yticklabels([f\"{tick}\" for tick in custom_ticks])\ncbar.minorticks_off()\nax.set_xticks([])\nax.set_yticks([])\nplt.show()"
      ]
    }
  ],
  "metadata": {
    "kernelspec": {
      "display_name": "Python 3",
      "language": "python",
      "name": "python3"
    },
    "language_info": {
      "codemirror_mode": {
        "name": "ipython",
        "version": 3
      },
      "file_extension": ".py",
      "mimetype": "text/x-python",
      "name": "python",
      "nbconvert_exporter": "python",
      "pygments_lexer": "ipython3",
      "version": "3.13.8"
    }
  },
  "nbformat": 4,
  "nbformat_minor": 0
}