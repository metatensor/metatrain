{
  "cells": [
    {
      "cell_type": "markdown",
      "metadata": {},
      "source": [
        "\n# Model validation with parity plots\n\nThis tutorial shows how to visualise your model output using parity plots. In the\n`sphx_glr_generated_examples_0-beginner_03-train_from_scratch.py` we learned how to\nevaluate a trained model on a test set and save the results to an output file. Here we\nwill show how to create parity plots from these results.\n"
      ]
    },
    {
      "cell_type": "markdown",
      "metadata": {},
      "source": [
        "Import necessary libraries\n\n"
      ]
    },
    {
      "cell_type": "code",
      "execution_count": null,
      "metadata": {
        "collapsed": false
      },
      "outputs": [],
      "source": [
        "import ase.io\nimport chemiscope\nimport matplotlib.pyplot as plt\nimport numpy as np"
      ]
    },
    {
      "cell_type": "markdown",
      "metadata": {},
      "source": [
        "Load the reference data (ground truth)\n\n"
      ]
    },
    {
      "cell_type": "code",
      "execution_count": null,
      "metadata": {
        "collapsed": false
      },
      "outputs": [],
      "source": [
        "targets = ase.io.read(\"ethanol_reduced_100.xyz\", \":\")"
      ]
    },
    {
      "cell_type": "markdown",
      "metadata": {},
      "source": [
        "predicted data from a model\n\n"
      ]
    },
    {
      "cell_type": "code",
      "execution_count": null,
      "metadata": {
        "collapsed": false
      },
      "outputs": [],
      "source": [
        "predictions = ase.io.read(\"ethanol_reduced_100_predicted.xyz\", \":\")"
      ]
    },
    {
      "cell_type": "markdown",
      "metadata": {},
      "source": [
        "Extract the energies from the loaded frames\n\n"
      ]
    },
    {
      "cell_type": "code",
      "execution_count": null,
      "metadata": {
        "collapsed": false
      },
      "outputs": [],
      "source": [
        "e_targets = np.array(\n    [frame.get_total_energy() / len(frame) for frame in targets]\n)  # target energies\ne_predictions = np.array(\n    [frame.get_total_energy() / len(frame) for frame in predictions]\n)  # predicted energies\nf_targets = np.array(\n    [frame.get_forces().flatten() for frame in targets]\n).flatten()  # target forces\nf_predictions = np.array(\n    [frame.get_forces().flatten() for frame in predictions]\n).flatten()  # predicted forces"
      ]
    },
    {
      "cell_type": "markdown",
      "metadata": {},
      "source": [
        "## Create parity plots to compare predicted vs. target energies and forces\n\n"
      ]
    },
    {
      "cell_type": "code",
      "execution_count": null,
      "metadata": {
        "collapsed": false
      },
      "outputs": [],
      "source": [
        "fig, axs = plt.subplots(1, 2, figsize=(12, 5))\n\n# Parity plot for energies\naxs[0].scatter(e_targets, e_predictions)\naxs[0].axline((np.min(e_targets), np.min(e_targets)), slope=1, ls=\"--\", color=\"red\")\naxs[0].set_xlabel(\"Target energy / kcal\")\naxs[0].set_ylabel(\"Predicted energy / kcal\")\nmin_e = np.min(np.array([e_targets, e_predictions])) - 2\nmax_e = np.max(np.array([e_targets, e_predictions])) + 2\naxs[0].set_xlim([min_e, max_e])\naxs[0].set_ylim([min_e, max_e])\naxs[0].set_title(\"Energy Parity Plot\")\n\n# Parity plot for forces\naxs[1].scatter(f_targets, f_predictions, alpha=0.5)\naxs[1].axline((np.min(f_targets), np.min(f_targets)), slope=1, ls=\"--\", color=\"red\")\naxs[1].set_xlabel(\"Target force / kcal/\u00c5\")\naxs[1].set_ylabel(\"Predicted force / kcal/\u00c5\")\nmin_f = np.min(np.array([f_targets, f_predictions])) - 2\nmax_f = np.max(np.array([f_targets, f_predictions])) + 2\naxs[1].set_xlim([min_f, max_f])\naxs[1].set_ylim([min_f, max_f])\naxs[1].set_title(\"Force Parity Plot\")\n\nfig.tight_layout()\nplt.show()"
      ]
    },
    {
      "cell_type": "markdown",
      "metadata": {},
      "source": [
        "We can also compute and print RMSE for energies and forces\n\n"
      ]
    },
    {
      "cell_type": "code",
      "execution_count": null,
      "metadata": {
        "collapsed": false
      },
      "outputs": [],
      "source": [
        "print(\n    \"RMSE energy (per atom):\",\n    np.sqrt(np.mean((e_targets - e_predictions) ** 2)),\n    \"kcal\",\n)\nprint(\"RMSE forces:\", np.sqrt(np.mean((f_targets - f_predictions) ** 2)), \"kcal/\u00c5   \")"
      ]
    },
    {
      "cell_type": "markdown",
      "metadata": {},
      "source": [
        "The results are a bit poor here because the model was not trained well enough and\nwas created only for demonstration purposes. In the case of a well-trained model, the\npoints should be closer to the diagonal line.\n\n## Check outliers with ``Chemiscope``\n\nWith the approach above, you can inspect the whole dataset, but it might be difficult\nto identify outliers. `Chemiscope <https://chemiscope.org/docs/index.html>` is a\nvisualisation tool, allowing you to explore the dataset interactively. The following\nexample shows how to use it to check the structure of probable outliers and the atomic\nforces.\n\n"
      ]
    },
    {
      "cell_type": "code",
      "execution_count": null,
      "metadata": {
        "collapsed": false
      },
      "outputs": [],
      "source": [
        "for frame in targets + predictions:\n    frame.arrays[\"forces\"] = frame.get_forces()\n\n# a workaround, because the chemiscope interface for getting forces is broken with ASE\n# 3.23"
      ]
    },
    {
      "cell_type": "markdown",
      "metadata": {},
      "source": [
        "Plot the energy parity plot with Chemiscope. This can be rendered as a widget in a\nJupyter notebook.\n\n"
      ]
    },
    {
      "cell_type": "code",
      "execution_count": null,
      "metadata": {
        "collapsed": false
      },
      "outputs": [],
      "source": [
        "chemiscope.show(\n    targets,  # reading structures from the dataset\n    properties={\n        \"Target energy\": {\"values\": e_targets, \"target\": \"structure\", \"units\": \"kcal\"},\n        \"Predicted energy\": {\n            \"values\": e_predictions,\n            \"target\": \"structure\",\n            \"units\": \"kcal\",\n        },\n    },  # plotting the energy parity plot\n    mode=\"default\",\n    shapes={\n        \"target_forces\": chemiscope.ase_vectors_to_arrows(\n            targets, key=\"forces\", scale=0.05, radius=0.15\n        ),\n        \"predicted_forces\": chemiscope.ase_vectors_to_arrows(\n            predictions, key=\"forces\", scale=0.05, radius=0.15\n        ),\n    },  # plotting the atomic forces\n    settings=chemiscope.quick_settings(\n        trajectory=True,\n        map_settings={\"joinPoints\": False},\n        structure_settings={\n            \"unitCell\": True,\n            \"environments\": {\"activated\": False},\n            \"shape\": \"predicted_forces\",  # show predicted forces by defalut\n        },\n    ),\n)"
      ]
    },
    {
      "cell_type": "markdown",
      "metadata": {},
      "source": [
        "You can check the structures by clicking the red dots on the parity plot, or\ndragging the bar in the bottom right corner. Currently, plotting the diagonal line is\nnot supported in chemiscope, so please check the parity plot above to see the\noutliers.\n\nThe atomic forces are shown in arrows. The predicted forces are shown here. The target\nforces can be toggled by clicking the \"target_forces\" option in the menu in the upper\nright corner of the right panel.\n\n"
      ]
    }
  ],
  "metadata": {
    "kernelspec": {
      "display_name": "Python 3",
      "language": "python",
      "name": "python3"
    },
    "language_info": {
      "codemirror_mode": {
        "name": "ipython",
        "version": 3
      },
      "file_extension": ".py",
      "mimetype": "text/x-python",
      "name": "python",
      "nbconvert_exporter": "python",
      "pygments_lexer": "ipython3",
      "version": "3.13.8"
    }
  },
  "nbformat": 4,
  "nbformat_minor": 0
}