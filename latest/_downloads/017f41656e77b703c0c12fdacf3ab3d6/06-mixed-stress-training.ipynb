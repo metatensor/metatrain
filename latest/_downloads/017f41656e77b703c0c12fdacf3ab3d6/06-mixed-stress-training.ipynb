{
  "cells": [
    {
      "cell_type": "markdown",
      "metadata": {},
      "source": [
        "\n# Training with Mixed Stress Structures\n\nThis tutorial demonstrates how to train a model on datasets containing structures\nwith and without stress information in the same training set. This is useful when\nworking with:\n\n- Bulk materials with well-defined stress tensors\n- Molecules where stress is not physically meaningful\n- Slabs (surfaces) with non-periodic boundary conditions where stress is undefined\n\n``metatrain`` handles this automatically by allowing structures with NaN stress values.\n"
      ]
    },
    {
      "cell_type": "markdown",
      "metadata": {},
      "source": [
        "## Creating a Mixed Dataset\n\nWe'll create a dataset containing three types of structures: bulk materials,\nmolecules, and slabs. For structures where stress is not defined (molecules and\nslabs), we set the stress tensor to NaN.\n\n"
      ]
    },
    {
      "cell_type": "code",
      "execution_count": null,
      "metadata": {
        "collapsed": false
      },
      "outputs": [],
      "source": [
        "import subprocess\nimport warnings\n\nimport ase.build\nimport ase.io\nimport numpy as np\nfrom ase.calculators.emt import EMT\n\n\ncalculator = EMT()\nstructures = []\n\n# Create bulk structures with valid stress\nfor _ in range(5):\n    bulk = ase.build.bulk(\"Cu\", \"fcc\", a=3.6, cubic=True)\n    bulk.rattle(0.01)  # Small perturbation to make structures different\n    bulk.calc = calculator\n    bulk.info[\"energy\"] = bulk.get_potential_energy()\n    bulk.arrays[\"forces\"] = bulk.get_forces()\n    bulk.info[\"stress\"] = bulk.get_stress(voigt=False)\n    bulk.calc = None\n    structures.append(bulk)\n\n# Create molecules with NaN stress (stress not defined for molecules)\nfor i in range(5):\n    molecule = ase.Atoms(\"Cu2\", positions=[[0, 0, 0], [2.5 + 0.1 * i, 2.5, 2.5]])\n    molecule.calc = calculator\n    molecule.info[\"energy\"] = molecule.get_potential_energy()\n    molecule.arrays[\"forces\"] = molecule.get_forces()\n    molecule.info[\"stress\"] = np.full(\n        (3, 3), np.nan, dtype=np.float64\n    )  # Use NaN for undefined stress\n    molecule.calc = None\n    structures.append(molecule)\n\n# Create slabs with NaN stress (stress not defined for slabs with non-periodic BC)\nfor _ in range(5):\n    slab = ase.build.fcc111(\"Cu\", size=(2, 2, 4), vacuum=10.0)\n    slab.pbc = (True, True, False)  # Periodic in xy, non-periodic in z\n    slab.rattle(0.01)  # Small perturbation\n    slab.calc = calculator\n    slab.info[\"energy\"] = slab.get_potential_energy()\n    slab.arrays[\"forces\"] = slab.get_forces()\n    slab.info[\"stress\"] = np.full(\n        (3, 3), np.nan, dtype=np.float64\n    )  # Use NaN for undefined stress\n    slab.calc = None\n    structures.append(slab)\n\n# Write structures to file\nwith warnings.catch_warnings():\n    warnings.simplefilter(\"ignore\")\n    ase.io.write(\"mixed_structures.xyz\", structures)\n\nprint(f\"Created dataset with {len(structures)} structures:\")\nprint(\"  - 5 bulk structures (with valid stress)\")\nprint(\"  - 5 molecules (with NaN stress)\")\nprint(\"  - 5 slabs (with NaN stress)\")"
      ]
    },
    {
      "cell_type": "markdown",
      "metadata": {},
      "source": [
        "## Configuration for Mixed Stress Training\n\nWe use an options file that specifies training on energy, forces,\nand stress. The model will automatically handle structures with NaN stress\nduring training.\n\n.. literalinclude:: options-mixed-stress.yaml\n   :language: yaml\n\n"
      ]
    },
    {
      "cell_type": "markdown",
      "metadata": {},
      "source": [
        "## Training the Model\n\nNow we train the model using the mixed dataset. The training will proceed\nnormally, with stress contributions to the loss only coming from structures\nwhere stress is well-defined (non-NaN values).\n\n"
      ]
    },
    {
      "cell_type": "code",
      "execution_count": null,
      "metadata": {
        "collapsed": false
      },
      "outputs": [],
      "source": [
        "# Here, we run training as a subprocess, in reality you would run this from the command\n# line as ``mtt train options-mixed-stress.yaml``.\nsubprocess.run([\"mtt\", \"train\", \"options-mixed-stress.yaml\"], check=True)"
      ]
    },
    {
      "cell_type": "markdown",
      "metadata": {},
      "source": [
        "## Key Points\n\n1. **Use NaN for undefined stress**: When stress is not defined for a structure,\n   set the stress tensor to ``np.full((3, 3), np.nan, dtype=np.float64)``.\n\n2. **Mixed training is automatic**: ``metatrain`` automatically handles the mixed\n   dataset during training, only computing stress loss for structures where stress\n   is defined (not NaN).\n\n3. **All structures need stress field**: Even if stress is not defined for some\n   structures, the stress field must be present in the dataset. Use NaN values\n   for structures where stress is undefined.\n\n4. **Force training works normally**: Forces can be trained for all structure types\n   (bulk, molecules, and slabs) without any special handling.\n\nThis feature is particularly useful when:\n\n- Training models that need to work across different system types\n- Working with surface calculations where stress is only meaningful in periodic\n  directions\n- Combining datasets from different sources where stress information may not be\n  available for all structures\n\n"
      ]
    }
  ],
  "metadata": {
    "kernelspec": {
      "display_name": "Python 3",
      "language": "python",
      "name": "python3"
    },
    "language_info": {
      "codemirror_mode": {
        "name": "ipython",
        "version": 3
      },
      "file_extension": ".py",
      "mimetype": "text/x-python",
      "name": "python",
      "nbconvert_exporter": "python",
      "pygments_lexer": "ipython3",
      "version": "3.13.8"
    }
  },
  "nbformat": 4,
  "nbformat_minor": 0
}