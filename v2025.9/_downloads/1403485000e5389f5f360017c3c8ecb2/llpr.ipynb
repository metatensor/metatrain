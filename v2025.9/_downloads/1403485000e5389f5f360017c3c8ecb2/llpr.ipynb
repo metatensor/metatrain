{
  "cells": [
    {
      "cell_type": "markdown",
      "metadata": {},
      "source": [
        "\n# Computing LLPR uncertainties\n\nThis tutorial demonstrates how to use an already trained and exported model\nfrom Python. It involves the computation of the local prediction rigidity\n([LPR](LPR_)) for every atom of a single ethanol molecule, using the\nlast-layer prediction rigidity ([LLPR](LLPR_)) approximation.\n\n\nThe model was trained using the following training options.\n\n.. literalinclude:: options.yaml\n   :language: yaml\n\nYou can train the same model yourself with\n\n.. literalinclude:: train.sh\n   :language: bash\n\nA detailed step-by-step introduction on how to train a model is provided in\nthe `label_basic_usage` tutorial.\n"
      ]
    },
    {
      "cell_type": "code",
      "execution_count": null,
      "metadata": {
        "collapsed": false
      },
      "outputs": [],
      "source": [
        "import torch"
      ]
    },
    {
      "cell_type": "markdown",
      "metadata": {},
      "source": [
        "Models can be loaded using the :func:`metatrain.utils.io.load_model` function. The\nfunction requires the path to the exported model and, for some models, also the path\nto the respective extensions directory. Both are produced during the training process.\n%%\n\nIn metatrain, a Dataset is composed of a list of systems and a dictionary of targets.\nThe following lines illustrate how to read systems and targets from xyz files, and\nhow to create a Dataset object from them.\n\n"
      ]
    },
    {
      "cell_type": "code",
      "execution_count": null,
      "metadata": {
        "collapsed": false
      },
      "outputs": [],
      "source": [
        "from metatrain.utils.data import Dataset, read_systems, read_targets  # noqa: E402\nfrom metatrain.utils.neighbor_lists import (  # noqa: E402\n    get_requested_neighbor_lists,\n    get_system_with_neighbor_lists,\n)\n\n\nqm9_systems = read_systems(\"qm9_reduced_100.xyz\")\n\ntarget_config = {\n    \"energy\": {\n        \"quantity\": \"energy\",\n        \"read_from\": \"ethanol_reduced_100.xyz\",\n        \"reader\": \"ase\",\n        \"key\": \"energy\",\n        \"unit\": \"kcal/mol\",\n        \"type\": \"scalar\",\n        \"per_atom\": False,\n        \"num_subtargets\": 1,\n        \"forces\": False,\n        \"stress\": False,\n        \"virial\": False,\n    },\n}\ntargets, _ = read_targets(target_config)\n\n\nfrom metatrain.utils.io import load_model  # noqa: E402\nfrom metatrain.utils.llpr import LLPRUncertaintyModel  # noqa: E402\n\n\nmodel = load_model(\"model.ckpt\")\nllpr_model = LLPRUncertaintyModel(model)  # wrap the model in a LLPR uncertainty model\n\nrequested_neighbor_lists = get_requested_neighbor_lists(llpr_model)\nqm9_systems = [\n    get_system_with_neighbor_lists(system, requested_neighbor_lists)\n    for system in qm9_systems\n]\ndataset = Dataset.from_dict({\"system\": qm9_systems, **targets})\n\n# We also load a single ethanol molecule on which we will compute properties.\n# This system is loaded without targets, as we are only interested in the LPR\n# values.\nethanol_system = read_systems(\"ethanol_reduced_100.xyz\")[0]\nethanol_system = get_system_with_neighbor_lists(\n    ethanol_system, requested_neighbor_lists\n)"
      ]
    },
    {
      "cell_type": "markdown",
      "metadata": {},
      "source": [
        "The dataset is fully compatible with torch. For example, be used to create\na DataLoader object.\n\n"
      ]
    },
    {
      "cell_type": "code",
      "execution_count": null,
      "metadata": {
        "collapsed": false
      },
      "outputs": [],
      "source": [
        "from metatrain.utils.data import CollateFn  # noqa: E402\n\n\ncollate_fn = CollateFn(target_keys=list(targets.keys()))\n\ndataloader = torch.utils.data.DataLoader(\n    dataset,\n    batch_size=10,\n    shuffle=False,\n    collate_fn=collate_fn,\n)"
      ]
    },
    {
      "cell_type": "markdown",
      "metadata": {},
      "source": [
        "Wrapping the model in a LLPRUncertaintyModel object allows us\nto compute prediction rigidity metrics, which are useful for uncertainty\nquantification and model introspection.\n\n"
      ]
    },
    {
      "cell_type": "code",
      "execution_count": null,
      "metadata": {
        "collapsed": false
      },
      "outputs": [],
      "source": [
        "llpr_model.compute_covariance(dataloader)\nllpr_model.compute_inverse_covariance(regularizer=1e-4)\n\n# calibrate on the same dataset for simplicity. In reality, a separate\n# calibration/validation dataset should be used.\nllpr_model.calibrate(dataloader)\n\n# Finally, we can save a checkpoint of the LLPR model\nllpr_model.save_checkpoint(\"llpr_model.ckpt\")"
      ]
    },
    {
      "cell_type": "markdown",
      "metadata": {},
      "source": [
        "Using the LLPR model to perform uncertainty calculations requires loading it as a\nmetatomic model. To do this, we need to export it and load the exported version.\n\n"
      ]
    },
    {
      "cell_type": "code",
      "execution_count": null,
      "metadata": {
        "collapsed": false
      },
      "outputs": [],
      "source": [
        "import subprocess  # noqa: E402\n\nfrom metatomic.torch import load_atomistic_model  # noqa: E402\n\n\n# First, we run \"mtt export\" to export the model. This generates an exported model\n# named \"llpr_model.pt\" and an extension directory named \"llpr_extensions/\".\nsubprocess.run([\"mtt\", \"export\", \"llpr_model.ckpt\", \"-e\", \"llpr_extensions/\"])\n\n# Finally, we load the exported model using metatomic's `load_atomistic_model` function.\nexported_model = load_atomistic_model(\n    \"llpr_model.pt\", extensions_directory=\"llpr_extensions/\"\n)"
      ]
    },
    {
      "cell_type": "markdown",
      "metadata": {},
      "source": [
        "We can now use the model to compute the uncertainty for every atom in the ethanol\nmolecule. To do so, we create a ModelEvaluationOptions object, which is used to\nrequest specific outputs from the model. In this case, we request the uncertainty in\nthe atomic energy predictions. (Note that this \"uncertainty\" is in part due to the\nfact that the model has never been trained on per-atom energies, but only on total\nenergies. This effect has been studied in the literature by means of the local\nprediction rigidity, or LPR. The LPR is the inverse of the square of the per-atom\nuncertainty, as defined here.)\n\n"
      ]
    },
    {
      "cell_type": "code",
      "execution_count": null,
      "metadata": {
        "collapsed": false
      },
      "outputs": [],
      "source": [
        "from metatomic.torch import ModelEvaluationOptions, ModelOutput  # noqa: E402\n\n\nevaluation_options = ModelEvaluationOptions(\n    length_unit=\"angstrom\",\n    outputs={\n        # request the uncertainty in the atomic energy predictions\n        \"energy\": ModelOutput(per_atom=True),  # needed to request the uncertainties\n        \"energy_uncertainty\": ModelOutput(per_atom=True),\n        # `per_atom=False` would return the total uncertainty for the system,\n        # or (the inverse of) the TPR (total prediction rigidity)\n        # you also can request other outputs from the model here, for example:\n        # \"mtt::aux::energy_last_layer_features\": ModelOutput(per_atom=True),\n    },\n    selected_atoms=None,\n)\n\noutputs = exported_model([ethanol_system], evaluation_options, check_consistency=False)\none_over_lpr = outputs[\"energy_uncertainty\"].block().values.detach().cpu().numpy() ** 2"
      ]
    },
    {
      "cell_type": "markdown",
      "metadata": {},
      "source": [
        "We can now visualize the LPR values using the `plot_atoms` function from\n``ase.visualize.plot``.\n\n"
      ]
    },
    {
      "cell_type": "code",
      "execution_count": null,
      "metadata": {
        "collapsed": false
      },
      "outputs": [],
      "source": [
        "import ase.io  # noqa: E402\nimport matplotlib.pyplot as plt  # noqa: E402\nfrom ase.visualize.plot import plot_atoms  # noqa: E402\nfrom matplotlib.colors import LogNorm  # noqa: E402\n\n\nstructure = ase.io.read(\"ethanol_reduced_100.xyz\")\nnorm = LogNorm(vmin=min(one_over_lpr), vmax=max(one_over_lpr))\ncolormap = plt.get_cmap(\"viridis\")\ncolors = colormap(norm(one_over_lpr))\nax = plot_atoms(structure, colors=colors, rotation=\"180x,0y,0z\")\ncustom_ticks = [2e9, 5e9, 1e10, 2e10, 5e10]\ncbar = plt.colorbar(\n    plt.cm.ScalarMappable(norm=norm, cmap=colormap),\n    ax=ax,\n    label=\"LPR\",\n    ticks=custom_ticks,\n)\ncbar.ax.set_yticklabels([f\"{tick:.0e}\" for tick in custom_ticks])\ncbar.minorticks_off()\nplt.show()"
      ]
    }
  ],
  "metadata": {
    "kernelspec": {
      "display_name": "Python 3",
      "language": "python",
      "name": "python3"
    },
    "language_info": {
      "codemirror_mode": {
        "name": "ipython",
        "version": 3
      },
      "file_extension": ".py",
      "mimetype": "text/x-python",
      "name": "python",
      "nbconvert_exporter": "python",
      "pygments_lexer": "ipython3",
      "version": "3.13.6"
    }
  },
  "nbformat": 4,
  "nbformat_minor": 0
}