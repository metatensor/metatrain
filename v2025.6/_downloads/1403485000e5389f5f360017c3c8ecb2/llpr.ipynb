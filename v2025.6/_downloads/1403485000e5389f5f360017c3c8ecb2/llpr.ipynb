{
  "cells": [
    {
      "cell_type": "markdown",
      "metadata": {},
      "source": [
        "\n# Computing LLPR uncertainties\n\nThis tutorial demonstrates how to use an already trained and exported model\nfrom Python. It involves the computation of the local prediction rigidity\n([LPR](LPR_)) for every atom of a single ethanol molecule, using the\nlast-layer prediction rigidity ([LLPR](LLPR_)) approximation.\n\n\nThe model was trained using the following training options.\n\n.. literalinclude:: options.yaml\n   :language: yaml\n\nYou can train the same model yourself with\n\n.. literalinclude:: train.sh\n   :language: bash\n\nA detailed step-by-step introduction on how to train a model is provided in\nthe `label_basic_usage` tutorial.\n"
      ]
    },
    {
      "cell_type": "code",
      "execution_count": null,
      "metadata": {
        "collapsed": false
      },
      "outputs": [],
      "source": [
        "import torch\n\nfrom metatrain.utils.io import load_model"
      ]
    },
    {
      "cell_type": "markdown",
      "metadata": {},
      "source": [
        "Models can be loaded using the :func:`metatrain.utils.io.load_model` function from\nthe. For already exported models The function requires the path to the exported model\nand, for many models, also the path to the respective extensions directory. Both are\nproduced during the training process.\n\n"
      ]
    },
    {
      "cell_type": "code",
      "execution_count": null,
      "metadata": {
        "collapsed": false
      },
      "outputs": [],
      "source": [
        "model = load_model(\"model.pt\", extensions_directory=\"extensions/\")"
      ]
    },
    {
      "cell_type": "markdown",
      "metadata": {},
      "source": [
        "In metatrain, a Dataset is composed of a list of systems and a dictionary of targets.\nThe following lines illustrate how to read systems and targets from xyz files, and\nhow to create a Dataset object from them.\n\n"
      ]
    },
    {
      "cell_type": "code",
      "execution_count": null,
      "metadata": {
        "collapsed": false
      },
      "outputs": [],
      "source": [
        "from metatrain.utils.data import Dataset, read_systems, read_targets  # noqa: E402\nfrom metatrain.utils.neighbor_lists import (  # noqa: E402\n    get_requested_neighbor_lists,\n    get_system_with_neighbor_lists,\n)\n\n\nqm9_systems = read_systems(\"qm9_reduced_100.xyz\")\n\ntarget_config = {\n    \"energy\": {\n        \"quantity\": \"energy\",\n        \"read_from\": \"ethanol_reduced_100.xyz\",\n        \"reader\": \"ase\",\n        \"key\": \"energy\",\n        \"unit\": \"kcal/mol\",\n        \"type\": \"scalar\",\n        \"per_atom\": False,\n        \"num_subtargets\": 1,\n        \"forces\": False,\n        \"stress\": False,\n        \"virial\": False,\n    },\n}\ntargets, _ = read_targets(target_config)\n\nrequested_neighbor_lists = get_requested_neighbor_lists(model)\nqm9_systems = [\n    get_system_with_neighbor_lists(system, requested_neighbor_lists)\n    for system in qm9_systems\n]\ndataset = Dataset.from_dict({\"system\": qm9_systems, **targets})\n\n# We also load a single ethanol molecule on which we will compute properties.\n# This system is loaded without targets, as we are only interested in the LPR\n# values.\nethanol_system = read_systems(\"ethanol_reduced_100.xyz\")[0]\nethanol_system = get_system_with_neighbor_lists(\n    ethanol_system, requested_neighbor_lists\n)"
      ]
    },
    {
      "cell_type": "markdown",
      "metadata": {},
      "source": [
        "The dataset is fully compatible with torch. For example, be used to create\na DataLoader object.\n\n"
      ]
    },
    {
      "cell_type": "code",
      "execution_count": null,
      "metadata": {
        "collapsed": false
      },
      "outputs": [],
      "source": [
        "from metatrain.utils.data import collate_fn  # noqa: E402\n\n\ndataloader = torch.utils.data.DataLoader(\n    dataset,\n    batch_size=10,\n    shuffle=False,\n    collate_fn=collate_fn,\n)"
      ]
    },
    {
      "cell_type": "markdown",
      "metadata": {},
      "source": [
        "We now wrap the model in a LLPRUncertaintyModel object, which will allows us\nto compute prediction rigidity metrics, which are useful for uncertainty\nquantification and model introspection.\n\n"
      ]
    },
    {
      "cell_type": "code",
      "execution_count": null,
      "metadata": {
        "collapsed": false
      },
      "outputs": [],
      "source": [
        "from metatensor.torch.atomistic import (  # noqa: E402\n    MetatensorAtomisticModel,\n    ModelMetadata,\n)\n\nfrom metatrain.utils.llpr import LLPRUncertaintyModel  # noqa: E402\n\n\nllpr_model = LLPRUncertaintyModel(model)\nllpr_model.compute_covariance(dataloader)\nllpr_model.compute_inverse_covariance(regularizer=1e-4)\n\n# calibrate on the same dataset for simplicity. In reality, a separate\n# calibration/validation dataset should be used.\nllpr_model.calibrate(dataloader)\n\nexported_model = MetatensorAtomisticModel(\n    llpr_model.eval(),\n    ModelMetadata(),\n    llpr_model.capabilities,\n)"
      ]
    },
    {
      "cell_type": "markdown",
      "metadata": {},
      "source": [
        "We can now use the model to compute the LPR for every atom in the ethanol molecule.\nTo do so, we create a ModelEvaluationOptions object, which is used to request\nspecific outputs from the model. In this case, we request the uncertainty in the\natomic energy predictions.\n\n"
      ]
    },
    {
      "cell_type": "code",
      "execution_count": null,
      "metadata": {
        "collapsed": false
      },
      "outputs": [],
      "source": [
        "from metatensor.torch.atomistic import ModelEvaluationOptions, ModelOutput  # noqa: E402\n\n\nevaluation_options = ModelEvaluationOptions(\n    length_unit=\"angstrom\",\n    outputs={\n        # request the uncertainty in the atomic energy predictions\n        \"energy\": ModelOutput(per_atom=True),  # needed to request the uncertainties\n        \"mtt::aux::energy_uncertainty\": ModelOutput(per_atom=True),\n        # `per_atom=False` would return the total uncertainty for the system,\n        # or (the inverse of) the TPR (total prediction rigidity)\n        # you also can request other outputs from the model here, for example:\n        # \"mtt::aux::energy_last_layer_features\": ModelOutput(per_atom=True),\n    },\n    selected_atoms=None,\n)\n\noutputs = exported_model([ethanol_system], evaluation_options, check_consistency=False)\nlpr = outputs[\"mtt::aux::energy_uncertainty\"].block().values.detach().cpu().numpy()"
      ]
    },
    {
      "cell_type": "markdown",
      "metadata": {},
      "source": [
        "We can now visualize the LPR values using the `plot_atoms` function from\n``ase.visualize.plot``.\n\n"
      ]
    },
    {
      "cell_type": "code",
      "execution_count": null,
      "metadata": {
        "collapsed": false
      },
      "outputs": [],
      "source": [
        "import ase.io  # noqa: E402\nimport matplotlib.pyplot as plt  # noqa: E402\nfrom ase.visualize.plot import plot_atoms  # noqa: E402\nfrom matplotlib.colors import LogNorm  # noqa: E402\n\n\nstructure = ase.io.read(\"ethanol_reduced_100.xyz\")\nnorm = LogNorm(vmin=min(lpr), vmax=max(lpr))\ncolormap = plt.get_cmap(\"viridis\")\ncolors = colormap(norm(lpr))\nax = plot_atoms(structure, colors=colors, rotation=\"180x,0y,0z\")\ncustom_ticks = [1e10, 2e10, 5e10, 1e11, 2e11]\ncbar = plt.colorbar(\n    plt.cm.ScalarMappable(norm=norm, cmap=colormap),\n    ax=ax,\n    label=\"LPR\",\n    ticks=custom_ticks,\n)\ncbar.ax.set_yticklabels([f\"{tick:.0e}\" for tick in custom_ticks])\ncbar.minorticks_off()\nplt.show()"
      ]
    }
  ],
  "metadata": {
    "kernelspec": {
      "display_name": "Python 3",
      "language": "python",
      "name": "python3"
    },
    "language_info": {
      "codemirror_mode": {
        "name": "ipython",
        "version": 3
      },
      "file_extension": ".py",
      "mimetype": "text/x-python",
      "name": "python",
      "nbconvert_exporter": "python",
      "pygments_lexer": "ipython3",
      "version": "3.13.3"
    }
  },
  "nbformat": 4,
  "nbformat_minor": 0
}