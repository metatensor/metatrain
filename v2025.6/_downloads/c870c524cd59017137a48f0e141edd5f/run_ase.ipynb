{
  "cells": [
    {
      "cell_type": "markdown",
      "metadata": {},
      "source": [
        "\n# Running molecular dynamics with ASE\n\nThis tutorial demonstrates how to use an already trained and exported model to run an\nASE simulation of a single ethanol molecule in vacuum. We use a model that was trained\nusing the `architecture-soap-bpnn` architecture on 100 ethanol systems\ncontaining energies and forces. You can obtain the :download:`dataset file\n<ethanol_reduced_100.xyz>` used in this example from our website. The dataset is a\nsubset of the [rMD17 dataset](https://iopscience.iop.org/article/10.1088/2632-2153/abba6f/meta).\n\nThe model was trained using the following training options.\n\n.. literalinclude:: options.yaml\n   :language: yaml\n\nYou can train the same model yourself with\n\n.. literalinclude:: train.sh\n   :language: bash\n\nA detailed step-by-step introduction on how to train a model is provided in\nthe `label_basic_usage` tutorial.\n"
      ]
    },
    {
      "cell_type": "markdown",
      "metadata": {},
      "source": [
        "First, we start by importing the necessary libraries, including the integration of ASE\ncalculators for metatensor atomistic models.\n\n"
      ]
    },
    {
      "cell_type": "code",
      "execution_count": null,
      "metadata": {
        "collapsed": false
      },
      "outputs": [],
      "source": [
        "import ase.md\nimport ase.md.velocitydistribution\nimport ase.units\nimport ase.visualize.plot\nimport matplotlib.pyplot as plt\nimport numpy as np\nfrom ase.geometry.analysis import Analysis\nfrom metatensor.torch.atomistic.ase_calculator import MetatensorCalculator"
      ]
    },
    {
      "cell_type": "markdown",
      "metadata": {},
      "source": [
        "## Setting up the simulation\n\nNext, we initialize the simulation by extracting the initial positions from the\ndataset file which we initially trained the model on.\n\n"
      ]
    },
    {
      "cell_type": "code",
      "execution_count": null,
      "metadata": {
        "collapsed": false
      },
      "outputs": [],
      "source": [
        "train_frames = ase.io.read(\"ethanol_reduced_100.xyz\", \":\")\natoms = train_frames[0].copy()"
      ]
    },
    {
      "cell_type": "markdown",
      "metadata": {},
      "source": [
        "Below we show the initial configuration of a single ethanol molecule in vacuum.\n\n"
      ]
    },
    {
      "cell_type": "code",
      "execution_count": null,
      "metadata": {
        "collapsed": false
      },
      "outputs": [],
      "source": [
        "ase.visualize.plot.plot_atoms(atoms)\n\nplt.xlabel(\"\u00c5\")\nplt.ylabel(\"\u00c5\")\n\nplt.show()"
      ]
    },
    {
      "cell_type": "markdown",
      "metadata": {},
      "source": [
        "Our initial coordinates do not include velocities. We initialize the velocities\naccording to a Maxwell-Boltzmann Distribution at 300 K.\n\n"
      ]
    },
    {
      "cell_type": "code",
      "execution_count": null,
      "metadata": {
        "collapsed": false
      },
      "outputs": [],
      "source": [
        "ase.md.velocitydistribution.MaxwellBoltzmannDistribution(atoms, temperature_K=300)"
      ]
    },
    {
      "cell_type": "markdown",
      "metadata": {},
      "source": [
        "We now register our exported model as the energy calculator to obtain energies and\nforces.\n\n"
      ]
    },
    {
      "cell_type": "code",
      "execution_count": null,
      "metadata": {
        "collapsed": false
      },
      "outputs": [],
      "source": [
        "atoms.calc = MetatensorCalculator(\"model.pt\", extensions_directory=\"extensions/\")"
      ]
    },
    {
      "cell_type": "markdown",
      "metadata": {},
      "source": [
        "Finally, we define the integrator which we use to obtain new positions and velocities\nbased on our energy calculator. We use a common timestep of 0.5 fs.\n\n"
      ]
    },
    {
      "cell_type": "code",
      "execution_count": null,
      "metadata": {
        "collapsed": false
      },
      "outputs": [],
      "source": [
        "integrator = ase.md.VelocityVerlet(atoms, timestep=0.5 * ase.units.fs)"
      ]
    },
    {
      "cell_type": "markdown",
      "metadata": {},
      "source": [
        "## Run the simulation\n\nWe now have everything ready to run the MD simulation at constant energy (NVE). To\nkeep the execution time of this tutorial small we run the simulations only for 100\nsteps. If you want to run a longer simulation you can increase the ``n_steps``\nvariable.\n\nDuring the simulation loop we collect data about the simulation for later analysis.\n\n"
      ]
    },
    {
      "cell_type": "code",
      "execution_count": null,
      "metadata": {
        "collapsed": false
      },
      "outputs": [],
      "source": [
        "n_steps = 100\n\npotential_energy = np.zeros(n_steps)\nkinetic_energy = np.zeros(n_steps)\ntotal_energy = np.zeros(n_steps)\ntrajectory = []\n\nfor step in range(n_steps):\n    # run a single simulation step\n    integrator.run(1)\n\n    trajectory.append(atoms.copy())\n    potential_energy[step] = atoms.get_potential_energy()\n    kinetic_energy[step] = atoms.get_kinetic_energy()\n    total_energy[step] = atoms.get_total_energy()"
      ]
    },
    {
      "cell_type": "markdown",
      "metadata": {},
      "source": [
        "## Analyse the results\n\n### Energy conservation\n\nFor a first analysis, we plot the evolution of the mean of the kinetic, potential, and\ntotal energy which is an important measure for the stability of a simulation.\n\nAs shown below we see that both the kinetic, potential, and total energy\nfluctuate but the total energy is conserved over the length of the simulation.\n\n"
      ]
    },
    {
      "cell_type": "code",
      "execution_count": null,
      "metadata": {
        "collapsed": false
      },
      "outputs": [],
      "source": [
        "plt.plot(potential_energy - potential_energy.mean(), label=\"potential energy\")\nplt.plot(kinetic_energy - kinetic_energy.mean(), label=\"kinetic energy\")\nplt.plot(total_energy - total_energy.mean(), label=\"total energy\")\n\nplt.xlabel(\"step\")\nplt.ylabel(\"energy / kcal/mol\")\nplt.legend()\n\nplt.show()"
      ]
    },
    {
      "cell_type": "markdown",
      "metadata": {},
      "source": [
        "### Inspect the systems\n\nEven though the total energy is conserved, we also have to verify that the ethanol\nmolecule is stable and the bonds did not break.\n\n"
      ]
    },
    {
      "cell_type": "code",
      "execution_count": null,
      "metadata": {
        "collapsed": false
      },
      "outputs": [],
      "source": [
        "animation = ase.visualize.plot.animate(trajectory, interval=100, save_count=None)\nplt.show()"
      ]
    },
    {
      "cell_type": "markdown",
      "metadata": {},
      "source": [
        "### Carbon-hydrogen radial distribution function\n\nAs a final analysis we also calculate and plot the carbon-hydrogen radial distribution\nfunction (RDF) from the trajectory and compare this to the RDF from the training set.\n\nTo use the RDF code from ase we first have to define a unit cell for our systems.\nWe choose a cubic one with a side length of 10 \u00c5.\n\n"
      ]
    },
    {
      "cell_type": "code",
      "execution_count": null,
      "metadata": {
        "collapsed": false
      },
      "outputs": [],
      "source": [
        "for atoms in train_frames:\n    atoms.cell = 10 * np.ones(3)\n    atoms.pbc = True\n\nfor atoms in trajectory:\n    atoms.cell = 10 * np.ones(3)\n    atoms.pbc = True"
      ]
    },
    {
      "cell_type": "markdown",
      "metadata": {},
      "source": [
        "We now can initilize the :py:class:`ase.geometry.analysis.Analysis` objects and\ncompute the the RDF using the :py:meth:`ase.geometry.analysis.Analysis.get_rdf`\nmethod.\n\n"
      ]
    },
    {
      "cell_type": "code",
      "execution_count": null,
      "metadata": {
        "collapsed": false
      },
      "outputs": [],
      "source": [
        "ana_traj = Analysis(trajectory)\nana_train = Analysis(train_frames)\n\nrdf_traj = ana_traj.get_rdf(rmax=5, nbins=50, elements=[\"C\", \"H\"], return_dists=True)\nrdf_train = ana_train.get_rdf(rmax=5, nbins=50, elements=[\"C\", \"H\"], return_dists=True)"
      ]
    },
    {
      "cell_type": "markdown",
      "metadata": {},
      "source": [
        "We extract the bin positions from the returned values and and averege the RDF over the\nwhole trajectory and dataset, respectively.\n\n"
      ]
    },
    {
      "cell_type": "code",
      "execution_count": null,
      "metadata": {
        "collapsed": false
      },
      "outputs": [],
      "source": [
        "bins = rdf_traj[0][1]\nrdf_traj_mean = np.mean([rdf_traj[i][0] for i in range(n_steps)], axis=0)\nrdf_train_mean = np.mean([rdf_train[i][0] for i in range(n_steps)], axis=0)"
      ]
    },
    {
      "cell_type": "markdown",
      "metadata": {},
      "source": [
        "Plotting the RDF verifies that the hydrogen bonds are stable, confirming that we\nperformed an energy-conserving and stable simulation.\n\n"
      ]
    },
    {
      "cell_type": "code",
      "execution_count": null,
      "metadata": {
        "collapsed": false
      },
      "outputs": [],
      "source": [
        "plt.plot(bins, rdf_traj_mean, label=\"trajectory\")\nplt.plot(bins, rdf_train_mean, label=\"training set\")\n\nplt.legend()\nplt.xlabel(\"r / \u00c5\")\nplt.ylabel(\"radial distribution function\")\n\nplt.show()"
      ]
    }
  ],
  "metadata": {
    "kernelspec": {
      "display_name": "Python 3",
      "language": "python",
      "name": "python3"
    },
    "language_info": {
      "codemirror_mode": {
        "name": "ipython",
        "version": 3
      },
      "file_extension": ".py",
      "mimetype": "text/x-python",
      "name": "python",
      "nbconvert_exporter": "python",
      "pygments_lexer": "ipython3",
      "version": "3.13.3"
    }
  },
  "nbformat": 4,
  "nbformat_minor": 0
}